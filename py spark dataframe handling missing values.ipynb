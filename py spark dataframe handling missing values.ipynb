{
 "cells": [
  {
   "cell_type": "code",
   "execution_count": 2,
   "id": "b34709c7",
   "metadata": {},
   "outputs": [],
   "source": [
    "### Pyspark Handing Missing Values\n",
    "#-Dropping Column\n",
    "#-Dropping Rows\n",
    "#-Various parameter IN Dropping functionalities\n",
    "#-Handling missing values by Mean ,Median , mode"
   ]
  },
  {
   "cell_type": "code",
   "execution_count": 11,
   "id": "783beb1c",
   "metadata": {},
   "outputs": [],
   "source": [
    "from pyspark.sql import SparkSession\n",
    "spark = SparkSession.builder.appName('Practice').getOrCreate()"
   ]
  },
  {
   "cell_type": "code",
   "execution_count": 78,
   "id": "61350a70",
   "metadata": {},
   "outputs": [],
   "source": [
    "df = spark.read.csv('test2.csv',header=True,inferSchema=True)"
   ]
  },
  {
   "cell_type": "code",
   "execution_count": 17,
   "id": "9d073553",
   "metadata": {},
   "outputs": [
    {
     "name": "stdout",
     "output_type": "stream",
     "text": [
      "+--------------+---+----------+------+\n",
      "|          Name|Age|Experience|Salary|\n",
      "+--------------+---+----------+------+\n",
      "|    John Smith| 32|         6| 75000|\n",
      "|  Sara Johnson| 28|         4| 65000|\n",
      "|   Michael Lee| 41|        10| 95000|\n",
      "|   Emily Brown| 23|         1| 45000|\n",
      "|    Daniel Kim| 37|         8| 85000|\n",
      "|Jennifer Davis| 29|         3| 60000|\n",
      "|  Robert Jones| 45|      null|110000|\n",
      "|    Amanda Lee| 26|         2| 50000|\n",
      "|          null| 33|      null|  null|\n",
      "|          null| 31|      null|  null|\n",
      "+--------------+---+----------+------+\n",
      "\n"
     ]
    }
   ],
   "source": [
    "#see table\n",
    "df.show()"
   ]
  },
  {
   "cell_type": "code",
   "execution_count": 21,
   "id": "0a483fbd",
   "metadata": {},
   "outputs": [
    {
     "name": "stdout",
     "output_type": "stream",
     "text": [
      "+--------------+----------+------+\n",
      "|          Name|Experience|Salary|\n",
      "+--------------+----------+------+\n",
      "|    John Smith|         6| 75000|\n",
      "|  Sara Johnson|         4| 65000|\n",
      "|   Michael Lee|        10| 95000|\n",
      "|   Emily Brown|         1| 45000|\n",
      "|    Daniel Kim|         8| 85000|\n",
      "|Jennifer Davis|         3| 60000|\n",
      "|  Robert Jones|      null|110000|\n",
      "|    Amanda Lee|         2| 50000|\n",
      "|          null|      null|  null|\n",
      "|          null|      null|  null|\n",
      "+--------------+----------+------+\n",
      "\n"
     ]
    }
   ],
   "source": [
    "##dropping columns\n",
    "df_pyspark = spark.read.csv('test2.csv',header=True,inferSchema=True)\n",
    "df_pyspark.drop('Age').show()\n"
   ]
  },
  {
   "cell_type": "code",
   "execution_count": 24,
   "id": "565a3068",
   "metadata": {},
   "outputs": [
    {
     "name": "stdout",
     "output_type": "stream",
     "text": [
      "+--------------+---+----------+------+\n",
      "|          Name|Age|Experience|Salary|\n",
      "+--------------+---+----------+------+\n",
      "|    John Smith| 32|         6| 75000|\n",
      "|  Sara Johnson| 28|         4| 65000|\n",
      "|   Michael Lee| 41|        10| 95000|\n",
      "|   Emily Brown| 23|         1| 45000|\n",
      "|    Daniel Kim| 37|         8| 85000|\n",
      "|Jennifer Davis| 29|         3| 60000|\n",
      "|  Robert Jones| 45|      null|110000|\n",
      "|    Amanda Lee| 26|         2| 50000|\n",
      "|          null| 33|      null|  null|\n",
      "|          null| 31|      null|  null|\n",
      "+--------------+---+----------+------+\n",
      "\n"
     ]
    }
   ],
   "source": [
    "df_pyspark.show()"
   ]
  },
  {
   "cell_type": "code",
   "execution_count": 25,
   "id": "9361254d",
   "metadata": {},
   "outputs": [
    {
     "name": "stdout",
     "output_type": "stream",
     "text": [
      "+--------------+---+----------+------+\n",
      "|          Name|Age|Experience|Salary|\n",
      "+--------------+---+----------+------+\n",
      "|    John Smith| 32|         6| 75000|\n",
      "|  Sara Johnson| 28|         4| 65000|\n",
      "|   Michael Lee| 41|        10| 95000|\n",
      "|   Emily Brown| 23|         1| 45000|\n",
      "|    Daniel Kim| 37|         8| 85000|\n",
      "|Jennifer Davis| 29|         3| 60000|\n",
      "|    Amanda Lee| 26|         2| 50000|\n",
      "+--------------+---+----------+------+\n",
      "\n"
     ]
    }
   ],
   "source": [
    "#drop records/rows with null values\n",
    "df_pyspark.na.drop().show()"
   ]
  },
  {
   "cell_type": "code",
   "execution_count": 27,
   "id": "e955cd23",
   "metadata": {},
   "outputs": [
    {
     "name": "stdout",
     "output_type": "stream",
     "text": [
      "+--------------+---+----------+------+\n",
      "|          Name|Age|Experience|Salary|\n",
      "+--------------+---+----------+------+\n",
      "|    John Smith| 32|         6| 75000|\n",
      "|  Sara Johnson| 28|         4| 65000|\n",
      "|   Michael Lee| 41|        10| 95000|\n",
      "|   Emily Brown| 23|         1| 45000|\n",
      "|    Daniel Kim| 37|         8| 85000|\n",
      "|Jennifer Davis| 29|         3| 60000|\n",
      "|    Amanda Lee| 26|         2| 50000|\n",
      "+--------------+---+----------+------+\n",
      "\n"
     ]
    }
   ],
   "source": [
    "##how==any or all...by defalut its any\n",
    "df_pyspark.na.drop(how='any').show()"
   ]
  },
  {
   "cell_type": "code",
   "execution_count": 39,
   "id": "55ebf1df",
   "metadata": {},
   "outputs": [
    {
     "name": "stdout",
     "output_type": "stream",
     "text": [
      "+--------------+---+----------+------+\n",
      "|          Name|Age|Experience|Salary|\n",
      "+--------------+---+----------+------+\n",
      "|    John Smith| 32|         6| 75000|\n",
      "|  Sara Johnson| 28|         4| 65000|\n",
      "|   Michael Lee| 41|        10| 95000|\n",
      "|   Emily Brown| 23|         1| 45000|\n",
      "|    Daniel Kim| 37|         8| 85000|\n",
      "|Jennifer Davis| 29|         3| 60000|\n",
      "|  Robert Jones| 45|      null|110000|\n",
      "|    Amanda Lee| 26|         2| 50000|\n",
      "|          null| 33|      null|  null|\n",
      "|          null| 31|      null|  null|\n",
      "+--------------+---+----------+------+\n",
      "\n"
     ]
    }
   ],
   "source": [
    "##threshold  remove record if count of null if equal to given threshold number\n",
    "df_pyspark.na.drop(how='all',thresh=1).show()"
   ]
  },
  {
   "cell_type": "markdown",
   "id": "d3b3f526",
   "metadata": {},
   "source": []
  },
  {
   "cell_type": "code",
   "execution_count": 83,
   "id": "ed17336c",
   "metadata": {},
   "outputs": [
    {
     "name": "stdout",
     "output_type": "stream",
     "text": [
      "+--------------+---+----------+------+\n",
      "|          Name|Age|Experience|Salary|\n",
      "+--------------+---+----------+------+\n",
      "|    John Smith| 32|         6| 75000|\n",
      "|  Sara Johnson| 28|         4| 65000|\n",
      "|   Michael Lee| 41|        10| 95000|\n",
      "|   Emily Brown| 23|         1| 45000|\n",
      "|    Daniel Kim| 37|         8| 85000|\n",
      "|Jennifer Davis| 29|         3| 60000|\n",
      "|    Amanda Lee| 26|         2| 50000|\n",
      "+--------------+---+----------+------+\n",
      "\n"
     ]
    }
   ],
   "source": [
    "##subset\n",
    "df_pyspark.na.drop(how='any',subset=['Experience']).show()"
   ]
  },
  {
   "cell_type": "code",
   "execution_count": 84,
   "id": "3d8f5dca",
   "metadata": {},
   "outputs": [
    {
     "name": "stdout",
     "output_type": "stream",
     "text": [
      "+--------------+---+----------+-------+\n",
      "|          Name|Age|Experience| Salary|\n",
      "+--------------+---+----------+-------+\n",
      "|    John Smith| 32|         6|  75000|\n",
      "|  Sara Johnson| 28|         4|  65000|\n",
      "|   Michael Lee| 41|        10|  95000|\n",
      "|   Emily Brown| 23|         1|  45000|\n",
      "|    Daniel Kim| 37|         8|  85000|\n",
      "|Jennifer Davis| 29|         3|  60000|\n",
      "|  Robert Jones| 45|   Missing| 110000|\n",
      "|    Amanda Lee| 26|         2|  50000|\n",
      "|          null| 33|   Missing|Missing|\n",
      "|          null| 31|   Missing|Missing|\n",
      "+--------------+---+----------+-------+\n",
      "\n"
     ]
    }
   ],
   "source": [
    "##fill missing value  we will \n",
    "df.na.fill({\"Experience\":'Missing', \"Salary\":'Missing'}).show()\n"
   ]
  },
  {
   "cell_type": "code",
   "execution_count": 100,
   "id": "f8bd07b8",
   "metadata": {},
   "outputs": [],
   "source": [
    "##imputer function\n",
    "\n",
    "from pyspark.ml.feature import Imputer\n",
    "imputer = Imputer(\n",
    "    inputCols=['Age','Experience','Salary'],\n",
    "    outputCols=[\"{}_imputered\".format(c) for c in ['Age','Experience','Salary']],\n",
    "    strategy='median'\n",
    ")"
   ]
  },
  {
   "cell_type": "code",
   "execution_count": 101,
   "id": "0b1a9282",
   "metadata": {},
   "outputs": [
    {
     "name": "stdout",
     "output_type": "stream",
     "text": [
      "+--------------+---+----------+------+-------------+--------------------+----------------+\n",
      "|          Name|Age|Experience|Salary|Age_imputered|Experience_imputered|Salary_imputered|\n",
      "+--------------+---+----------+------+-------------+--------------------+----------------+\n",
      "|    John Smith| 32|         6| 75000|           32|                   6|           75000|\n",
      "|  Sara Johnson| 28|         4| 65000|           28|                   4|           65000|\n",
      "|   Michael Lee| 41|        10| 95000|           41|                  10|           95000|\n",
      "|   Emily Brown| 23|         1| 45000|           23|                   1|           45000|\n",
      "|    Daniel Kim| 37|         8| 85000|           37|                   8|           85000|\n",
      "|Jennifer Davis| 29|         3| 60000|           29|                   3|           60000|\n",
      "|  Robert Jones| 45|      null|110000|           45|                   4|          110000|\n",
      "|    Amanda Lee| 26|         2| 50000|           26|                   2|           50000|\n",
      "|          null| 33|      null|  null|           33|                   4|           65000|\n",
      "|          null| 31|      null|  null|           31|                   4|           65000|\n",
      "+--------------+---+----------+------+-------------+--------------------+----------------+\n",
      "\n"
     ]
    }
   ],
   "source": [
    "##add imputed cols to df\n",
    "imputer.fit(df_spark).transform(df_pyspark).show()"
   ]
  },
  {
   "cell_type": "code",
   "execution_count": null,
   "id": "d4d584cf",
   "metadata": {},
   "outputs": [],
   "source": []
  }
 ],
 "metadata": {
  "kernelspec": {
   "display_name": "Python 3 (ipykernel)",
   "language": "python",
   "name": "python3"
  },
  "language_info": {
   "codemirror_mode": {
    "name": "ipython",
    "version": 3
   },
   "file_extension": ".py",
   "mimetype": "text/x-python",
   "name": "python",
   "nbconvert_exporter": "python",
   "pygments_lexer": "ipython3",
   "version": "3.9.13"
  }
 },
 "nbformat": 4,
 "nbformat_minor": 5
}
