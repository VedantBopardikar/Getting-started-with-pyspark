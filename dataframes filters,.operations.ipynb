{
 "cells": [
  {
   "cell_type": "code",
   "execution_count": 1,
   "id": "b439c37d",
   "metadata": {},
   "outputs": [],
   "source": [
    "## Filter operations\n",
    "#&,|,==\n",
    "# ~ not"
   ]
  },
  {
   "cell_type": "code",
   "execution_count": 2,
   "id": "6e19b684",
   "metadata": {},
   "outputs": [],
   "source": [
    "from pyspark.sql import SparkSession\n",
    "spark = SparkSession.builder.appName('Practise').getOrCreate()"
   ]
  },
  {
   "cell_type": "code",
   "execution_count": 4,
   "id": "df3b48a3",
   "metadata": {},
   "outputs": [
    {
     "name": "stdout",
     "output_type": "stream",
     "text": [
      "+--------------+---+----------+------+\n",
      "|          Name|Age|Experience|Salary|\n",
      "+--------------+---+----------+------+\n",
      "|    John Smith| 32|         6| 75000|\n",
      "|  Sara Johnson| 28|         4| 65000|\n",
      "|   Michael Lee| 41|        10| 95000|\n",
      "|   Emily Brown| 23|         1| 45000|\n",
      "|    Daniel Kim| 37|         8| 85000|\n",
      "|Jennifer Davis| 29|         3| 60000|\n",
      "|  Robert Jones| 45|      null|110000|\n",
      "|    Amanda Lee| 26|         2| 50000|\n",
      "|          null| 33|      null|  null|\n",
      "|          null| 31|      null|  null|\n",
      "+--------------+---+----------+------+\n",
      "\n"
     ]
    }
   ],
   "source": [
    "df_pyspark = spark.read.csv('test2.csv',header=True,inferSchema=True)\n",
    "df_pyspark.show()"
   ]
  },
  {
   "cell_type": "code",
   "execution_count": 5,
   "id": "f0ff326f",
   "metadata": {},
   "outputs": [],
   "source": [
    "##filter operation using pyspark"
   ]
  },
  {
   "cell_type": "code",
   "execution_count": 11,
   "id": "6adfe67b",
   "metadata": {},
   "outputs": [
    {
     "name": "stdout",
     "output_type": "stream",
     "text": [
      "+--------------+----------+\n",
      "|          Name|Experience|\n",
      "+--------------+----------+\n",
      "|  Sara Johnson|         4|\n",
      "|   Emily Brown|         1|\n",
      "|Jennifer Davis|         3|\n",
      "|    Amanda Lee|         2|\n",
      "+--------------+----------+\n",
      "\n"
     ]
    }
   ],
   "source": [
    "df_pyspark.filter(\"Salary<=70000\").select('Name','Experience').show()"
   ]
  },
  {
   "cell_type": "code",
   "execution_count": 15,
   "id": "ced74409",
   "metadata": {},
   "outputs": [
    {
     "name": "stdout",
     "output_type": "stream",
     "text": [
      "+--------------+----------+\n",
      "|          Name|Experience|\n",
      "+--------------+----------+\n",
      "|  Sara Johnson|         4|\n",
      "|Jennifer Davis|         3|\n",
      "+--------------+----------+\n",
      "\n"
     ]
    }
   ],
   "source": [
    "df_pyspark.filter((df_pyspark['Salary']<=70000)& (df_pyspark['Experience']>=3)).select('Name','Experience').show()"
   ]
  },
  {
   "cell_type": "code",
   "execution_count": 16,
   "id": "2fbb8e3e",
   "metadata": {},
   "outputs": [
    {
     "name": "stdout",
     "output_type": "stream",
     "text": [
      "+--------------+----------+\n",
      "|          Name|Experience|\n",
      "+--------------+----------+\n",
      "|    John Smith|         6|\n",
      "|  Sara Johnson|         4|\n",
      "|   Michael Lee|        10|\n",
      "|   Emily Brown|         1|\n",
      "|    Daniel Kim|         8|\n",
      "|Jennifer Davis|         3|\n",
      "|    Amanda Lee|         2|\n",
      "+--------------+----------+\n",
      "\n"
     ]
    }
   ],
   "source": [
    "df_pyspark.filter((df_pyspark['Salary']<=70000) |(df_pyspark['Experience']>=3)).select('Name','Experience').show()"
   ]
  },
  {
   "cell_type": "code",
   "execution_count": 17,
   "id": "c017ead1",
   "metadata": {},
   "outputs": [
    {
     "name": "stdout",
     "output_type": "stream",
     "text": [
      "+------------+----------+\n",
      "|        Name|Experience|\n",
      "+------------+----------+\n",
      "|  John Smith|         6|\n",
      "| Michael Lee|        10|\n",
      "|  Daniel Kim|         8|\n",
      "|Robert Jones|      null|\n",
      "+------------+----------+\n",
      "\n"
     ]
    }
   ],
   "source": [
    "df_pyspark.filter(~(df_pyspark['Salary']<=70000)).select('Name','Experience').show()"
   ]
  },
  {
   "cell_type": "code",
   "execution_count": null,
   "id": "02611113",
   "metadata": {},
   "outputs": [],
   "source": []
  }
 ],
 "metadata": {
  "kernelspec": {
   "display_name": "Python 3 (ipykernel)",
   "language": "python",
   "name": "python3"
  },
  "language_info": {
   "codemirror_mode": {
    "name": "ipython",
    "version": 3
   },
   "file_extension": ".py",
   "mimetype": "text/x-python",
   "name": "python",
   "nbconvert_exporter": "python",
   "pygments_lexer": "ipython3",
   "version": "3.9.13"
  }
 },
 "nbformat": 4,
 "nbformat_minor": 5
}
