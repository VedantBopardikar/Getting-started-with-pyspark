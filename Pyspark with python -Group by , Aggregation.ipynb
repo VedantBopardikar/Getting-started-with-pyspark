{
 "cells": [
  {
   "cell_type": "code",
   "execution_count": 2,
   "id": "c76ae202",
   "metadata": {},
   "outputs": [],
   "source": [
    "from pyspark.sql import SparkSession\n",
    "spark = SparkSession.builder.appName('Aggregate functions').getOrCreate()"
   ]
  },
  {
   "cell_type": "code",
   "execution_count": 3,
   "id": "c12ea897",
   "metadata": {},
   "outputs": [
    {
     "data": {
      "text/html": [
       "\n",
       "            <div>\n",
       "                <p><b>SparkSession - in-memory</b></p>\n",
       "                \n",
       "        <div>\n",
       "            <p><b>SparkContext</b></p>\n",
       "\n",
       "            <p><a href=\"http://DESKTOP-FIPCM31.mshome.net:4041\">Spark UI</a></p>\n",
       "\n",
       "            <dl>\n",
       "              <dt>Version</dt>\n",
       "                <dd><code>v3.3.2</code></dd>\n",
       "              <dt>Master</dt>\n",
       "                <dd><code>local[*]</code></dd>\n",
       "              <dt>AppName</dt>\n",
       "                <dd><code>pyspark-shell</code></dd>\n",
       "            </dl>\n",
       "        </div>\n",
       "        \n",
       "            </div>\n",
       "        "
      ],
      "text/plain": [
       "<pyspark.sql.session.SparkSession at 0x18e1f8ca7f0>"
      ]
     },
     "execution_count": 3,
     "metadata": {},
     "output_type": "execute_result"
    }
   ],
   "source": [
    "spark\n"
   ]
  },
  {
   "cell_type": "code",
   "execution_count": 5,
   "id": "f198e759",
   "metadata": {},
   "outputs": [],
   "source": [
    "df = spark.read.csv('test3.csv',header=True,inferSchema=True)"
   ]
  },
  {
   "cell_type": "code",
   "execution_count": 6,
   "id": "08af7953",
   "metadata": {},
   "outputs": [
    {
     "name": "stdout",
     "output_type": "stream",
     "text": [
      "+--------+------------------+------+\n",
      "|    Name|        Department|Salary|\n",
      "+--------+------------------+------+\n",
      "|    John|         Marketing| 50000|\n",
      "|   Sarah|                HR| 60000|\n",
      "| Michael|       Engineering| 75000|\n",
      "|   Emily|           Finance| 55000|\n",
      "|  Robert|                IT| 80000|\n",
      "|Jennifer|             Sales| 65000|\n",
      "|   David|        Operations| 70000|\n",
      "|Samantha|          Research| 60000|\n",
      "| William|Product Management| 85000|\n",
      "|   Karen|  Customer Service| 50000|\n",
      "+--------+------------------+------+\n",
      "\n"
     ]
    }
   ],
   "source": [
    "df.show()"
   ]
  },
  {
   "cell_type": "code",
   "execution_count": 7,
   "id": "60d2576a",
   "metadata": {},
   "outputs": [
    {
     "data": {
      "text/plain": [
       "<bound method DataFrame.printSchema of DataFrame[Name: string, Department: string, Salary: int]>"
      ]
     },
     "execution_count": 7,
     "metadata": {},
     "output_type": "execute_result"
    }
   ],
   "source": [
    "df.printSchema\n"
   ]
  },
  {
   "cell_type": "code",
   "execution_count": 8,
   "id": "20f603e5",
   "metadata": {},
   "outputs": [
    {
     "name": "stdout",
     "output_type": "stream",
     "text": [
      "root\n",
      " |-- Name: string (nullable = true)\n",
      " |-- Department: string (nullable = true)\n",
      " |-- Salary: integer (nullable = true)\n",
      "\n"
     ]
    }
   ],
   "source": [
    "df.printSchema()"
   ]
  },
  {
   "cell_type": "code",
   "execution_count": 11,
   "id": "0fdc8e33",
   "metadata": {},
   "outputs": [
    {
     "name": "stdout",
     "output_type": "stream",
     "text": [
      "+--------+-----------+\n",
      "|    Name|sum(Salary)|\n",
      "+--------+-----------+\n",
      "|Samantha|      60000|\n",
      "|Jennifer|      65000|\n",
      "| Michael|      75000|\n",
      "|   Sarah|      60000|\n",
      "|    John|      50000|\n",
      "|   Emily|      55000|\n",
      "|   David|      70000|\n",
      "|  Robert|      80000|\n",
      "|   Karen|      50000|\n",
      "| William|      85000|\n",
      "+--------+-----------+\n",
      "\n"
     ]
    }
   ],
   "source": [
    "##Group By\n",
    "df.groupBy('Name').sum().show()"
   ]
  },
  {
   "cell_type": "code",
   "execution_count": 13,
   "id": "3f79d426",
   "metadata": {},
   "outputs": [
    {
     "data": {
      "text/plain": [
       "DataFrame[Department: string, sum(Salary): bigint]"
      ]
     },
     "execution_count": 13,
     "metadata": {},
     "output_type": "execute_result"
    }
   ],
   "source": [
    "##group by department wuth maximum salary\n",
    "df.groupBy('Department').sum()"
   ]
  },
  {
   "cell_type": "code",
   "execution_count": 14,
   "id": "f3c9a12a",
   "metadata": {},
   "outputs": [
    {
     "name": "stdout",
     "output_type": "stream",
     "text": [
      "+------------------+-----------+\n",
      "|        Department|avg(Salary)|\n",
      "+------------------+-----------+\n",
      "|Product Management|    85000.0|\n",
      "|             Sales|    65000.0|\n",
      "|       Engineering|    75000.0|\n",
      "|                HR|    60000.0|\n",
      "|           Finance|    55000.0|\n",
      "|          Research|    60000.0|\n",
      "|  Customer Service|    50000.0|\n",
      "|         Marketing|    50000.0|\n",
      "|                IT|    80000.0|\n",
      "|        Operations|    70000.0|\n",
      "+------------------+-----------+\n",
      "\n"
     ]
    }
   ],
   "source": [
    "df.groupBy('Department').mean().show()"
   ]
  },
  {
   "cell_type": "code",
   "execution_count": 15,
   "id": "488feca0",
   "metadata": {},
   "outputs": [
    {
     "name": "stdout",
     "output_type": "stream",
     "text": [
      "+------------------+-----+\n",
      "|        Department|count|\n",
      "+------------------+-----+\n",
      "|Product Management|    1|\n",
      "|             Sales|    1|\n",
      "|       Engineering|    1|\n",
      "|                HR|    1|\n",
      "|           Finance|    1|\n",
      "|          Research|    1|\n",
      "|  Customer Service|    1|\n",
      "|         Marketing|    1|\n",
      "|                IT|    1|\n",
      "|        Operations|    1|\n",
      "+------------------+-----+\n",
      "\n"
     ]
    }
   ],
   "source": [
    "df.groupBy('Department').count().show()"
   ]
  },
  {
   "cell_type": "code",
   "execution_count": 17,
   "id": "14260e56",
   "metadata": {},
   "outputs": [
    {
     "name": "stdout",
     "output_type": "stream",
     "text": [
      "+-----------+\n",
      "|sum(Salary)|\n",
      "+-----------+\n",
      "|     650000|\n",
      "+-----------+\n",
      "\n"
     ]
    }
   ],
   "source": [
    "df.agg({'Salary':'sum'}).show()"
   ]
  },
  {
   "cell_type": "code",
   "execution_count": 20,
   "id": "ba1b8897",
   "metadata": {},
   "outputs": [
    {
     "name": "stdout",
     "output_type": "stream",
     "text": [
      "+--------+-----------+\n",
      "|    Name|max(Salary)|\n",
      "+--------+-----------+\n",
      "|Samantha|      60000|\n",
      "|Jennifer|      65000|\n",
      "| Michael|      75000|\n",
      "|   Sarah|      60000|\n",
      "|    John|      50000|\n",
      "|   Emily|      55000|\n",
      "|   David|      70000|\n",
      "|  Robert|      80000|\n",
      "|   Karen|      50000|\n",
      "| William|      85000|\n",
      "+--------+-----------+\n",
      "\n"
     ]
    }
   ],
   "source": [
    "df.groupBy('Name').max().show()"
   ]
  },
  {
   "cell_type": "code",
   "execution_count": 22,
   "id": "f8c192c1",
   "metadata": {},
   "outputs": [
    {
     "name": "stdout",
     "output_type": "stream",
     "text": [
      "+------------------+-----------+\n",
      "|        Department|min(Salary)|\n",
      "+------------------+-----------+\n",
      "|Product Management|      85000|\n",
      "|             Sales|      65000|\n",
      "|       Engineering|      75000|\n",
      "|                HR|      60000|\n",
      "|           Finance|      55000|\n",
      "|          Research|      60000|\n",
      "|  Customer Service|      50000|\n",
      "|         Marketing|      50000|\n",
      "|                IT|      80000|\n",
      "|        Operations|      70000|\n",
      "+------------------+-----------+\n",
      "\n"
     ]
    }
   ],
   "source": [
    "df.groupBy(\"Department\").min().show()"
   ]
  },
  {
   "cell_type": "code",
   "execution_count": null,
   "id": "6cfdc3ea",
   "metadata": {},
   "outputs": [],
   "source": []
  }
 ],
 "metadata": {
  "kernelspec": {
   "display_name": "Python 3 (ipykernel)",
   "language": "python",
   "name": "python3"
  },
  "language_info": {
   "codemirror_mode": {
    "name": "ipython",
    "version": 3
   },
   "file_extension": ".py",
   "mimetype": "text/x-python",
   "name": "python",
   "nbconvert_exporter": "python",
   "pygments_lexer": "ipython3",
   "version": "3.9.13"
  }
 },
 "nbformat": 4,
 "nbformat_minor": 5
}
